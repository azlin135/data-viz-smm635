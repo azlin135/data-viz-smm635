{
 "cells": [
  {
   "cell_type": "markdown",
   "metadata": {},
   "source": [
    "# Visualizing statistical estimates and fits"
   ]
  },
  {
   "cell_type": "markdown",
   "metadata": {},
   "source": [
    "This tutorial shows how to visualize interaction effects included in regression\n",
    "models such as:\n",
    "\n",
    "\\begin{equation}\n",
    "  y = \\alpha + \\beta * x + \\gamma * z + \\delta * x * z + \\epsilon\n",
    "\\end{equation}\n",
    "\n",
    "Mainly, we use interaction terms to take into account that the effect of the  \n",
    "independent variable $x$ on the outcome $y$ is contingent on the value of a \n",
    "third variable $z$.\n",
    "\n",
    "Examples:\n",
    "\n",
    "+   the economic value of patents is contingent on the intellectual property\n",
    "    regime of a country/set of countries\n",
    "+   the economic returns of schooling are contingent on the institutional and\n",
    "    cultural environment of a country\n",
    "+   the social influence of a Soundcloud user's suggestions/reposts is contingent \n",
    "    on followership\n",
    "+   the influence of job satisfaction on intent to quit is contingent on the \n",
    "    size of the employer "
   ]
  },
  {
   "cell_type": "markdown",
   "metadata": {},
   "source": [
    "Key reference:\n",
    "\n",
    "![](images/baron_kenney.png)"
   ]
  },
  {
   "cell_type": "markdown",
   "metadata": {},
   "source": [
    "# Setup"
   ]
  },
  {
   "cell_type": "markdown",
   "metadata": {},
   "source": [
    "## Libraries"
   ]
  },
  {
   "cell_type": "code",
   "execution_count": 51,
   "metadata": {},
   "outputs": [],
   "source": [
    "import os\n",
    "import numpy as np\n",
    "import matplotlib.pyplot as plt\n",
    "from matplotlib import rc\n",
    "import statsmodels.api as sm\n",
    "import statsmodels.formula as smf\n",
    "import pandas as pd"
   ]
  },
  {
   "cell_type": "markdown",
   "metadata": {},
   "source": [
    "## Viz options"
   ]
  },
  {
   "cell_type": "code",
   "execution_count": 52,
   "metadata": {},
   "outputs": [],
   "source": [
    "rc('font',**{'family':'serif','serif':['Avant Garde']})\n",
    "rc('text', usetex=True)"
   ]
  },
  {
   "cell_type": "markdown",
   "metadata": {},
   "source": [
    "# Application"
   ]
  },
  {
   "cell_type": "markdown",
   "metadata": {},
   "source": [
    "## Goal"
   ]
  },
  {
   "cell_type": "markdown",
   "metadata": {},
   "source": [
    "The working hypothesis is that lower levels of job satisfaction ($x$) increases the\n",
    "chances of turnover, i.e., intent to quit ($y$).\n",
    "\n",
    "On top of this, we think the negative relationship between  $x$ and $y$ depends\n",
    "on the size of the employer. The intuition is that large employers have an \n",
    "internal labor market that allows individuals to change job positions (get a\n",
    "better fit with the task) without quitting the employment relation.\n",
    "\n",
    "The **goal** is showing how the relationship between job satisfaction and \n",
    "intent to quit (as estimated via OLS) changes as firm size increases."
   ]
  },
  {
   "cell_type": "markdown",
   "metadata": {},
   "source": [
    "## Data simulation"
   ]
  },
  {
   "cell_type": "markdown",
   "metadata": {},
   "source": [
    "We simulate multiple datasets involving the following variables:\n",
    "\n",
    "+   job satisfaction - the extent to which an employee is happy with his/her job\n",
    "    (let's assume we have Likert scale data; legend: 1 = not at all, 5 = to a \n",
    "    great extent)\n",
    "+   intent to quit - the extent to which an employee considers the possibility \n",
    "    to quit the current job (let's assume we have Likert scale data; legend: 1 \n",
    "    = not at all, 5 = to a great extent)\n",
    "+   age (in years)\n",
    "+   organizational tenure (years spent working for the employer)\n",
    "   \n",
    "Let's assume that all variables have been transformed into z-scores.\n",
    "   \n",
    "Each dataset we simulate reflect the following cohorts of employers:\n",
    "\n",
    "+   micro firms: 1 - 5 employees\n",
    "+   small firms: 6 - 25 employees\n",
    "+   medium firms: 26 - 100 employees\n",
    "+   large firms: 100 - 500 employees\n",
    "+   very large firms: 500 + "
   ]
  },
  {
   "cell_type": "code",
   "execution_count": 53,
   "metadata": {},
   "outputs": [],
   "source": [
    "# sample size\n",
    "num_samples = 1000\n",
    "\n",
    "# variables' mean \n",
    "mu = np.repeat(0, 4)\n",
    "\n",
    "# names\n",
    "names = ['job_sat', 'int_qui', 'age', 'org_tnr']"
   ]
  },
  {
   "cell_type": "markdown",
   "metadata": {},
   "source": [
    "### Micro firms"
   ]
  },
  {
   "cell_type": "code",
   "execution_count": 54,
   "metadata": {},
   "outputs": [],
   "source": [
    "# the desired covariance matrix.\n",
    "r = np.array([\n",
    "        [  1.00, -0.40, -0.03,  0.11],\n",
    "        [ -0.40,  1.00, -0.05, -0.09],\n",
    "        [ -0.03, -0.05,  1.00,  0.05],\n",
    "        [  0.11, -0.09,  0.05,  1.00]\n",
    "    ])\n",
    "\n",
    "# generate the random samples.\n",
    "df_1_5 = pd.DataFrame(np.random.multivariate_normal(mu, r, size=num_samples),\n",
    "                      columns=names)\n",
    "\n",
    "# expand\n",
    "df_1_5.loc[:, 'cohort'] = 'micro'\n",
    "df_1_5.loc[:, 'firm_size'] = np.random.randint(low=1, high=5, size=num_samples)"
   ]
  },
  {
   "cell_type": "code",
   "execution_count": 55,
   "metadata": {},
   "outputs": [
    {
     "data": {
      "text/html": [
       "<div>\n",
       "<style scoped>\n",
       "    .dataframe tbody tr th:only-of-type {\n",
       "        vertical-align: middle;\n",
       "    }\n",
       "\n",
       "    .dataframe tbody tr th {\n",
       "        vertical-align: top;\n",
       "    }\n",
       "\n",
       "    .dataframe thead th {\n",
       "        text-align: right;\n",
       "    }\n",
       "</style>\n",
       "<table border=\"1\" class=\"dataframe\">\n",
       "  <thead>\n",
       "    <tr style=\"text-align: right;\">\n",
       "      <th></th>\n",
       "      <th>job_sat</th>\n",
       "      <th>int_qui</th>\n",
       "      <th>age</th>\n",
       "      <th>org_tnr</th>\n",
       "      <th>cohort</th>\n",
       "      <th>firm_size</th>\n",
       "    </tr>\n",
       "  </thead>\n",
       "  <tbody>\n",
       "    <tr>\n",
       "      <th>0</th>\n",
       "      <td>-1.992759</td>\n",
       "      <td>-0.531744</td>\n",
       "      <td>0.208208</td>\n",
       "      <td>0.844195</td>\n",
       "      <td>micro</td>\n",
       "      <td>2</td>\n",
       "    </tr>\n",
       "    <tr>\n",
       "      <th>1</th>\n",
       "      <td>-2.746474</td>\n",
       "      <td>2.511886</td>\n",
       "      <td>-0.970228</td>\n",
       "      <td>0.053533</td>\n",
       "      <td>micro</td>\n",
       "      <td>4</td>\n",
       "    </tr>\n",
       "    <tr>\n",
       "      <th>2</th>\n",
       "      <td>-0.957536</td>\n",
       "      <td>-0.381626</td>\n",
       "      <td>0.631114</td>\n",
       "      <td>-0.382642</td>\n",
       "      <td>micro</td>\n",
       "      <td>4</td>\n",
       "    </tr>\n",
       "    <tr>\n",
       "      <th>3</th>\n",
       "      <td>0.725831</td>\n",
       "      <td>0.290553</td>\n",
       "      <td>1.543508</td>\n",
       "      <td>-0.499497</td>\n",
       "      <td>micro</td>\n",
       "      <td>1</td>\n",
       "    </tr>\n",
       "    <tr>\n",
       "      <th>4</th>\n",
       "      <td>-0.301695</td>\n",
       "      <td>0.276778</td>\n",
       "      <td>1.604164</td>\n",
       "      <td>-0.327978</td>\n",
       "      <td>micro</td>\n",
       "      <td>3</td>\n",
       "    </tr>\n",
       "  </tbody>\n",
       "</table>\n",
       "</div>"
      ],
      "text/plain": [
       "    job_sat   int_qui       age   org_tnr cohort  firm_size\n",
       "0 -1.992759 -0.531744  0.208208  0.844195  micro          2\n",
       "1 -2.746474  2.511886 -0.970228  0.053533  micro          4\n",
       "2 -0.957536 -0.381626  0.631114 -0.382642  micro          4\n",
       "3  0.725831  0.290553  1.543508 -0.499497  micro          1\n",
       "4 -0.301695  0.276778  1.604164 -0.327978  micro          3"
      ]
     },
     "execution_count": 55,
     "metadata": {},
     "output_type": "execute_result"
    }
   ],
   "source": [
    "df_1_5.head()"
   ]
  },
  {
   "cell_type": "markdown",
   "metadata": {},
   "source": [
    "### Small firms"
   ]
  },
  {
   "cell_type": "code",
   "execution_count": 56,
   "metadata": {},
   "outputs": [],
   "source": [
    "# the desired covariance matrix.\n",
    "r = np.array([\n",
    "        [  1.00, -0.30, -0.03,  0.11],\n",
    "        [ -0.30,  1.00, -0.05, -0.09],\n",
    "        [ -0.03, -0.05,  1.00,  0.05],\n",
    "        [  0.11, -0.09,  0.05,  1.00]\n",
    "    ])\n",
    "\n",
    "# generate the random samples.\n",
    "df_6_25 = pd.DataFrame(np.random.multivariate_normal(mu, r, size=num_samples),\n",
    "                       columns=names)\n",
    "\n",
    "# expand\n",
    "df_6_25.loc[:, 'cohort'] = 'large'\n",
    "df_6_25.loc[:, 'firm_size'] = np.random.randint(low=6,\n",
    "                                                high=25,\n",
    "                                                size=num_samples)"
   ]
  },
  {
   "cell_type": "code",
   "execution_count": 57,
   "metadata": {},
   "outputs": [
    {
     "data": {
      "text/html": [
       "<div>\n",
       "<style scoped>\n",
       "    .dataframe tbody tr th:only-of-type {\n",
       "        vertical-align: middle;\n",
       "    }\n",
       "\n",
       "    .dataframe tbody tr th {\n",
       "        vertical-align: top;\n",
       "    }\n",
       "\n",
       "    .dataframe thead th {\n",
       "        text-align: right;\n",
       "    }\n",
       "</style>\n",
       "<table border=\"1\" class=\"dataframe\">\n",
       "  <thead>\n",
       "    <tr style=\"text-align: right;\">\n",
       "      <th></th>\n",
       "      <th>job_sat</th>\n",
       "      <th>int_qui</th>\n",
       "      <th>age</th>\n",
       "      <th>org_tnr</th>\n",
       "      <th>cohort</th>\n",
       "      <th>firm_size</th>\n",
       "    </tr>\n",
       "  </thead>\n",
       "  <tbody>\n",
       "    <tr>\n",
       "      <th>0</th>\n",
       "      <td>-0.107080</td>\n",
       "      <td>1.799623</td>\n",
       "      <td>-0.468387</td>\n",
       "      <td>-2.191865</td>\n",
       "      <td>large</td>\n",
       "      <td>6</td>\n",
       "    </tr>\n",
       "    <tr>\n",
       "      <th>1</th>\n",
       "      <td>0.957758</td>\n",
       "      <td>0.035675</td>\n",
       "      <td>1.357635</td>\n",
       "      <td>-1.210960</td>\n",
       "      <td>large</td>\n",
       "      <td>15</td>\n",
       "    </tr>\n",
       "    <tr>\n",
       "      <th>2</th>\n",
       "      <td>-0.305284</td>\n",
       "      <td>0.401963</td>\n",
       "      <td>2.074361</td>\n",
       "      <td>-0.872235</td>\n",
       "      <td>large</td>\n",
       "      <td>17</td>\n",
       "    </tr>\n",
       "    <tr>\n",
       "      <th>3</th>\n",
       "      <td>-0.452074</td>\n",
       "      <td>0.659556</td>\n",
       "      <td>1.314830</td>\n",
       "      <td>-0.889965</td>\n",
       "      <td>large</td>\n",
       "      <td>11</td>\n",
       "    </tr>\n",
       "    <tr>\n",
       "      <th>4</th>\n",
       "      <td>0.270352</td>\n",
       "      <td>-0.606837</td>\n",
       "      <td>-0.908224</td>\n",
       "      <td>0.590164</td>\n",
       "      <td>large</td>\n",
       "      <td>21</td>\n",
       "    </tr>\n",
       "  </tbody>\n",
       "</table>\n",
       "</div>"
      ],
      "text/plain": [
       "    job_sat   int_qui       age   org_tnr cohort  firm_size\n",
       "0 -0.107080  1.799623 -0.468387 -2.191865  large          6\n",
       "1  0.957758  0.035675  1.357635 -1.210960  large         15\n",
       "2 -0.305284  0.401963  2.074361 -0.872235  large         17\n",
       "3 -0.452074  0.659556  1.314830 -0.889965  large         11\n",
       "4  0.270352 -0.606837 -0.908224  0.590164  large         21"
      ]
     },
     "execution_count": 57,
     "metadata": {},
     "output_type": "execute_result"
    }
   ],
   "source": [
    "df_6_25.head()"
   ]
  },
  {
   "cell_type": "markdown",
   "metadata": {},
   "source": [
    "### Medium firms"
   ]
  },
  {
   "cell_type": "code",
   "execution_count": 58,
   "metadata": {},
   "outputs": [],
   "source": [
    "# the desired covariance matrix.\n",
    "r = np.array([\n",
    "        [  1.00, -0.25, -0.03,  0.11],\n",
    "        [ -0.25,  1.00, -0.05, -0.09],\n",
    "        [ -0.03, -0.05,  1.00,  0.05],\n",
    "        [  0.11, -0.09,  0.05,  1.00]\n",
    "    ])\n",
    "\n",
    "# generate the random samples.\n",
    "df_26_100 = pd.DataFrame(np.random.multivariate_normal(mu, r, size=num_samples),\n",
    "                         columns=names)\n",
    "\n",
    "# expand\n",
    "df_26_100.loc[:, 'cohort'] = 'medium'\n",
    "df_26_100.loc[:, 'firm_size'] = np.random.randint(low=26,\n",
    "                                                  high=100,\n",
    "                                                  size=num_samples)"
   ]
  },
  {
   "cell_type": "markdown",
   "metadata": {},
   "source": [
    "### Large firms"
   ]
  },
  {
   "cell_type": "code",
   "execution_count": 59,
   "metadata": {},
   "outputs": [],
   "source": [
    "# the desired covariance matrix.\n",
    "r = np.array([\n",
    "        [  1.00, -0.20, -0.03,  0.11],\n",
    "        [ -0.20,  1.00, -0.05, -0.09],\n",
    "        [ -0.03, -0.05,  1.00,  0.05],\n",
    "        [  0.11, -0.09,  0.05,  1.00]\n",
    "    ])\n",
    "\n",
    "# generate the random samples.\n",
    "df_101_500 = pd.DataFrame(np.random.multivariate_normal(mu, r, size=num_samples),\n",
    "                          columns=names)\n",
    "\n",
    "# expand\n",
    "df_101_500.loc[:, 'cohort'] = 'large'\n",
    "df_501_.loc[:, 'firm_size'] = np.random.randint(low=101, high=500,\n",
    "                                                size=num_samples)"
   ]
  },
  {
   "cell_type": "markdown",
   "metadata": {},
   "source": [
    "### Very large firms"
   ]
  },
  {
   "cell_type": "code",
   "execution_count": 60,
   "metadata": {},
   "outputs": [],
   "source": [
    "# the desired covariance matrix.\n",
    "r = np.array([\n",
    "        [  1.00, -0.15, -0.03,  0.11],\n",
    "        [ -0.15,  1.00, -0.05, -0.09],\n",
    "        [ -0.03, -0.05,  1.00,  0.05],\n",
    "        [  0.11, -0.09,  0.05,  1.00]\n",
    "    ])\n",
    "\n",
    "# generate the random samples.\n",
    "df_501_ = pd.DataFrame(np.random.multivariate_normal(mu, r, size=num_samples),\n",
    "                       columns=names)\n",
    "\n",
    "# expand\n",
    "df_501_.loc[:, 'cohort'] = 'very large'\n",
    "df_501_.loc[:, 'firm_size'] = np.random.randint(low=501, high=2000,\n",
    "                                                size=num_samples)"
   ]
  },
  {
   "cell_type": "markdown",
   "metadata": {},
   "source": [
    "#### Data preparation"
   ]
  },
  {
   "cell_type": "code",
   "execution_count": 61,
   "metadata": {},
   "outputs": [
    {
     "name": "stdout",
     "output_type": "stream",
     "text": [
      "<class 'pandas.core.frame.DataFrame'>\n",
      "Int64Index: 5000 entries, 0 to 999\n",
      "Data columns (total 6 columns):\n",
      " #   Column     Non-Null Count  Dtype  \n",
      "---  ------     --------------  -----  \n",
      " 0   job_sat    5000 non-null   float64\n",
      " 1   int_qui    5000 non-null   float64\n",
      " 2   age        5000 non-null   float64\n",
      " 3   org_tnr    5000 non-null   float64\n",
      " 4   cohort     5000 non-null   object \n",
      " 5   firm_size  4000 non-null   float64\n",
      "dtypes: float64(5), object(1)\n",
      "memory usage: 273.4+ KB\n"
     ]
    },
    {
     "data": {
      "text/html": [
       "<div>\n",
       "<style scoped>\n",
       "    .dataframe tbody tr th:only-of-type {\n",
       "        vertical-align: middle;\n",
       "    }\n",
       "\n",
       "    .dataframe tbody tr th {\n",
       "        vertical-align: top;\n",
       "    }\n",
       "\n",
       "    .dataframe thead th {\n",
       "        text-align: right;\n",
       "    }\n",
       "</style>\n",
       "<table border=\"1\" class=\"dataframe\">\n",
       "  <thead>\n",
       "    <tr style=\"text-align: right;\">\n",
       "      <th></th>\n",
       "      <th>job_sat</th>\n",
       "      <th>int_qui</th>\n",
       "      <th>age</th>\n",
       "      <th>org_tnr</th>\n",
       "      <th>cohort</th>\n",
       "      <th>firm_size</th>\n",
       "    </tr>\n",
       "  </thead>\n",
       "  <tbody>\n",
       "    <tr>\n",
       "      <th>0</th>\n",
       "      <td>-1.992759</td>\n",
       "      <td>-0.531744</td>\n",
       "      <td>0.208208</td>\n",
       "      <td>0.844195</td>\n",
       "      <td>micro</td>\n",
       "      <td>2.0</td>\n",
       "    </tr>\n",
       "    <tr>\n",
       "      <th>1</th>\n",
       "      <td>-2.746474</td>\n",
       "      <td>2.511886</td>\n",
       "      <td>-0.970228</td>\n",
       "      <td>0.053533</td>\n",
       "      <td>micro</td>\n",
       "      <td>4.0</td>\n",
       "    </tr>\n",
       "    <tr>\n",
       "      <th>2</th>\n",
       "      <td>-0.957536</td>\n",
       "      <td>-0.381626</td>\n",
       "      <td>0.631114</td>\n",
       "      <td>-0.382642</td>\n",
       "      <td>micro</td>\n",
       "      <td>4.0</td>\n",
       "    </tr>\n",
       "    <tr>\n",
       "      <th>3</th>\n",
       "      <td>0.725831</td>\n",
       "      <td>0.290553</td>\n",
       "      <td>1.543508</td>\n",
       "      <td>-0.499497</td>\n",
       "      <td>micro</td>\n",
       "      <td>1.0</td>\n",
       "    </tr>\n",
       "    <tr>\n",
       "      <th>4</th>\n",
       "      <td>-0.301695</td>\n",
       "      <td>0.276778</td>\n",
       "      <td>1.604164</td>\n",
       "      <td>-0.327978</td>\n",
       "      <td>micro</td>\n",
       "      <td>3.0</td>\n",
       "    </tr>\n",
       "  </tbody>\n",
       "</table>\n",
       "</div>"
      ],
      "text/plain": [
       "    job_sat   int_qui       age   org_tnr cohort  firm_size\n",
       "0 -1.992759 -0.531744  0.208208  0.844195  micro        2.0\n",
       "1 -2.746474  2.511886 -0.970228  0.053533  micro        4.0\n",
       "2 -0.957536 -0.381626  0.631114 -0.382642  micro        4.0\n",
       "3  0.725831  0.290553  1.543508 -0.499497  micro        1.0\n",
       "4 -0.301695  0.276778  1.604164 -0.327978  micro        3.0"
      ]
     },
     "execution_count": 61,
     "metadata": {},
     "output_type": "execute_result"
    }
   ],
   "source": [
    "df = pd.concat([df_1_5, df_6_25, df_26_100, df_101_500, df_501_],\n",
    "               axis=0)\n",
    "df.info()\n",
    "\n",
    "df.head()"
   ]
  },
  {
   "cell_type": "markdown",
   "metadata": {},
   "source": [
    "# Regression analysis\n",
    "\n",
    "x ------> y\n",
    "     ^\n",
    "     |\n",
    "     |\n",
    "     z\n",
    "     \n",
    "Alternative 1:\n",
    "\n",
    "+ 5 models, each of which applies to a certain cohort:\n",
    "  - 5 betas [$\\beta_{micro}$, $\\beta_{small}$, ..... ]\n",
    "  - no $\\delta$ / no interaction effect\n",
    "  \n",
    "Alternative 2:\n",
    "+ 1 model, whose equation is the one displayed at the top of this notebook\n",
    "  - beta + delta"
   ]
  },
  {
   "cell_type": "markdown",
   "metadata": {},
   "source": [
    "??"
   ]
  },
  {
   "cell_type": "markdown",
   "metadata": {},
   "source": [
    "# Visualization"
   ]
  },
  {
   "cell_type": "markdown",
   "metadata": {},
   "source": [
    "??"
   ]
  },
  {
   "cell_type": "code",
   "execution_count": null,
   "metadata": {},
   "outputs": [],
   "source": []
  },
  {
   "cell_type": "code",
   "execution_count": null,
   "metadata": {},
   "outputs": [],
   "source": []
  }
 ],
 "metadata": {
  "kernelspec": {
   "display_name": "Python 3",
   "language": "python",
   "name": "python3"
  },
  "language_info": {
   "codemirror_mode": {
    "name": "ipython",
    "version": 3
   },
   "file_extension": ".py",
   "mimetype": "text/x-python",
   "name": "python",
   "nbconvert_exporter": "python",
   "pygments_lexer": "ipython3",
   "version": "3.8.5"
  }
 },
 "nbformat": 4,
 "nbformat_minor": 4
}
