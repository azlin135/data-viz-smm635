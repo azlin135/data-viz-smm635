{
 "cells": [
  {
   "cell_type": "markdown",
   "metadata": {
    "toc": true
   },
   "source": [
    "<h1>Table of Contents<span class=\"tocSkip\"></span></h1>\n",
    "<div class=\"toc\"><ul class=\"toc-item\"><li><span><a href=\"#Data-visualization-―-week-7,-part-I\" data-toc-modified-id=\"Data-visualization-―-week-7,-part-I-1\">Data visualization ― week 7, part I</a></span></li><li><span><a href=\"#Agenda\" data-toc-modified-id=\"Agenda-2\">Agenda</a></span></li><li><span><a href=\"#History-of-geospatial-representations:-Dr-Snow's-studies-of-cholera-spread-in-19th-century-London\" data-toc-modified-id=\"History-of-geospatial-representations:-Dr-Snow's-studies-of-cholera-spread-in-19th-century-London-3\">History of geospatial representations: Dr Snow's studies of cholera spread in 19th century London</a></span></li><li><span><a href=\"#What-are-the-methodological-roots-of-geo-spatial-analyses?\" data-toc-modified-id=\"What-are-the-methodological-roots-of-geo-spatial-analyses?-4\">What are the methodological roots of geo-spatial analyses?</a></span></li><li><span><a href=\"#Geographical-information-systems\" data-toc-modified-id=\"Geographical-information-systems-5\">Geographical information systems</a></span></li><li><span><a href=\"#Example-of-GIS-―-cattles-sent-to-Paris-from-all-around-France\" data-toc-modified-id=\"Example-of-GIS-―-cattles-sent-to-Paris-from-all-around-France-6\">Example of GIS ― cattles sent to Paris from all around France</a></span></li><li><span><a href=\"#Remote-sensoring\" data-toc-modified-id=\"Remote-sensoring-7\">Remote sensoring</a></span></li><li><span><a href=\"#Early-history-of-remote-sensoring\" data-toc-modified-id=\"Early-history-of-remote-sensoring-8\">Early history of remote sensoring</a></span></li><li><span><a href=\"#Application-of-remote-sensoring-in-military-intelligence:-The-battle-for-the-space\" data-toc-modified-id=\"Application-of-remote-sensoring-in-military-intelligence:-The-battle-for-the-space-9\">Application of remote sensoring in military intelligence: The battle for the space</a></span></li><li><span><a href=\"#Elevation-data\" data-toc-modified-id=\"Elevation-data-10\">Elevation data</a></span></li><li><span><a href=\"#The-central-role-of-geospatial-analysis-in-modern-data-science\" data-toc-modified-id=\"The-central-role-of-geospatial-analysis-in-modern-data-science-11\">The central role of geospatial analysis in modern data science</a></span></li><li><span><a href=\"#Thematic-maps\" data-toc-modified-id=\"Thematic-maps-12\">Thematic maps</a></span></li><li><span><a href=\"#What-are-thematic-maps?\" data-toc-modified-id=\"What-are-thematic-maps?-13\">What are thematic maps?</a></span></li><li><span><a href=\"#Why/how-do-we-use-thematic-maps?\" data-toc-modified-id=\"Why/how-do-we-use-thematic-maps?-14\">Why/how do we use thematic maps?</a></span></li><li><span><a href=\"#Computational-challenges\" data-toc-modified-id=\"Computational-challenges-15\">Computational challenges</a></span></li><li><span><a href=\"#Rendering\" data-toc-modified-id=\"Rendering-16\">Rendering</a></span></li><li><span><a href=\"#Geographic-and-screen-coordinates\" data-toc-modified-id=\"Geographic-and-screen-coordinates-17\">Geographic and screen coordinates</a></span></li><li><span><a href=\"#Let's-build-a-simple-GIS\" data-toc-modified-id=\"Let's-build-a-simple-GIS-18\">Let's build a simple GIS</a></span></li><li><span><a href=\"#Good-reference-book-on-this\" data-toc-modified-id=\"Good-reference-book-on-this-19\">Good reference book on this</a></span></li><li><span><a href=\"#Step-0:-Let's-leverage-some-drawing-capabilities\" data-toc-modified-id=\"Step-0:-Let's-leverage-some-drawing-capabilities-20\">Step 0: Let's leverage some drawing capabilities</a></span></li><li><span><a href=\"#Step-1:-Data-model-setup\" data-toc-modified-id=\"Step-1:-Data-model-setup-21\">Step 1: Data model setup</a></span></li><li><span><a href=\"#Step-2:-Expand-data\" data-toc-modified-id=\"Step-2:-Expand-data-22\">Step 2: Expand data</a></span></li><li><span><a href=\"#Step-3:-Fix-map-size\" data-toc-modified-id=\"Step-3:-Fix-map-size-23\">Step 3: Fix map size</a></span></li><li><span><a href=\"#Step-4:-Scaling-the-map\" data-toc-modified-id=\"Step-4:-Scaling-the-map-24\">Step 4: Scaling the map</a></span></li><li><span><a href=\"#Step-4:-Scaling-the-map-(cont'd)\" data-toc-modified-id=\"Step-4:-Scaling-the-map-(cont'd)-25\">Step 4: Scaling the map (cont'd)</a></span></li><li><span><a href=\"#Step-5:-Sample-GIS-function\" data-toc-modified-id=\"Step-5:-Sample-GIS-function-26\">Step 5: Sample GIS function</a></span></li><li><span><a href=\"#Step-6:-Render-our-GIS-as-a-thematic-map\" data-toc-modified-id=\"Step-6:-Render-our-GIS-as-a-thematic-map-27\">Step 6: Render our GIS as a thematic map</a></span></li><li><span><a href=\"#Step-6:-Render-our-GIS-as-a-thematic-map-(cont'd)\" data-toc-modified-id=\"Step-6:-Render-our-GIS-as-a-thematic-map-(cont'd)-28\">Step 6: Render our GIS as a thematic map (cont'd)</a></span></li></ul></div>"
   ]
  },
  {
   "cell_type": "markdown",
   "metadata": {
    "heading_collapsed": true,
    "slideshow": {
     "slide_type": "slide"
    }
   },
   "source": [
    "# Data visualization ― week 7, part I\n",
    "\n",
    "<img src='images/HometoWork_spread1.jpg' width=1500/>"
   ]
  },
  {
   "cell_type": "markdown",
   "metadata": {
    "slideshow": {
     "slide_type": "slide"
    }
   },
   "source": [
    "# Agenda\n",
    "\n",
    "- Introduction to geospatial representations\n",
    "- Building a simple GIS with Turtle\n",
    "- Python packages for geospatial analyses — overview"
   ]
  },
  {
   "cell_type": "markdown",
   "metadata": {
    "slideshow": {
     "slide_type": "slide"
    }
   },
   "source": [
    "# History of geospatial representations: Dr Snow's studies of cholera spread in 19th century London\n",
    "\n",
    "<img src='images/SnowMap_Points.png' width=800/>\n",
    "\n",
    "Go to the video: https://www.youtube.com/watch?v=Pq32LB8j2K8"
   ]
  },
  {
   "cell_type": "markdown",
   "metadata": {
    "slideshow": {
     "slide_type": "slide"
    }
   },
   "source": [
    "# What are the methodological roots of geo-spatial analyses?\n",
    "\n",
    "- GIS\n",
    "- remote sensoring\n",
    "- elevation data"
   ]
  },
  {
   "cell_type": "markdown",
   "metadata": {
    "slideshow": {
     "slide_type": "subslide"
    }
   },
   "source": [
    "# Geographical information systems\n",
    "\n",
    "- computer mapping evolved with the computer itself in the 1960s\n",
    "- the term GIS began with the Canadian Department of Forestry and Rural Development\n",
    "    - Dr. Roger Tomlinson headed a team of 40 developers in an agreement with IBM to build the Canada Geographic Information System (CGIS)\n",
    "    - the CGIS tracked the natural resources of Canada and allowed the profiling of these features for further analysis\n",
    "    - the CGIS stored each type of land cover as a different layer"
   ]
  },
  {
   "cell_type": "markdown",
   "metadata": {
    "slideshow": {
     "slide_type": "subslide"
    }
   },
   "source": [
    "# Example of GIS ― cattles sent to Paris from all around France\n",
    "\n",
    "<img src='images/example_of_gis.png' width=700/>\n",
    "\n",
    "Source: Minard (early 1900s)"
   ]
  },
  {
   "cell_type": "markdown",
   "metadata": {
    "slideshow": {
     "slide_type": "subslide"
    }
   },
   "source": [
    "# Remote sensoring\n",
    "\n",
    "- 'remote sensing' is the collection of information about an object without making physical contact with that object\n",
    "- in the context of geospatial analysis, the object is usually the Earth\n",
    "- by extracting features from images, modern remote sensing technologies have enabled GIS"
   ]
  },
  {
   "cell_type": "markdown",
   "metadata": {
    "slideshow": {
     "slide_type": "subslide"
    }
   },
   "source": [
    "# Early history of remote sensoring\n",
    "\n",
    "![](images/56914f0d6cbe4.jpeg)\n",
    "\n",
    "Aerial picture taken in 1860 over the city of Boston"
   ]
  },
  {
   "cell_type": "markdown",
   "metadata": {
    "slideshow": {
     "slide_type": "subslide"
    }
   },
   "source": [
    "# Application of remote sensoring in military intelligence: The battle for the space\n",
    "\n",
    "<img src='images/Sputnik-695836.jpg' width=800/>"
   ]
  },
  {
   "cell_type": "markdown",
   "metadata": {
    "slideshow": {
     "slide_type": "subslide"
    }
   },
   "source": [
    "# Elevation data"
   ]
  },
  {
   "cell_type": "markdown",
   "metadata": {
    "cell_style": "split",
    "slideshow": {
     "slide_type": "fragment"
    }
   },
   "source": [
    "- a Digital Elevation Model (DEM) is a three-dimensional representation of a planet's terrain (e.g., the Earth)\n",
    "- before computers, representations of elevation data were limited to topographic maps created through traditional land surveys\n",
    "- technology existed to create three-dimensional models from stereoscopic images or physical models from materials such as clay or wood"
   ]
  },
  {
   "cell_type": "markdown",
   "metadata": {
    "cell_style": "split",
    "slideshow": {
     "slide_type": "fragment"
    }
   },
   "source": [
    "\n",
    "![](images/worlddem_south_province_iceland_2012.jpg)"
   ]
  },
  {
   "cell_type": "markdown",
   "metadata": {
    "slideshow": {
     "slide_type": "slide"
    }
   },
   "source": [
    "# The central role of geospatial analysis in modern data science\n",
    "\n",
    "- geospatial analysis helps people make better decisions\n",
    "    - it can answer critical questions that are at the heart of the choice to be made and often cannot be answered any other way\n",
    "- technology and data were tools available only to governments and well-funded researchers\n",
    "    - however, in the last decade, data has become much more widely available\n"
   ]
  },
  {
   "cell_type": "markdown",
   "metadata": {
    "slideshow": {
     "slide_type": "slide"
    }
   },
   "source": [
    "# Thematic maps"
   ]
  },
  {
   "cell_type": "markdown",
   "metadata": {
    "slideshow": {
     "slide_type": "subslide"
    }
   },
   "source": [
    "# What are thematic maps?"
   ]
  },
  {
   "cell_type": "markdown",
   "metadata": {
    "cell_style": "split",
    "slideshow": {
     "slide_type": "fragment"
    }
   },
   "source": [
    "Thematic maps visually represents features as they relate geographically for navigation or\n",
    "planning"
   ]
  },
  {
   "cell_type": "markdown",
   "metadata": {
    "cell_style": "split",
    "slideshow": {
     "slide_type": "fragment"
    }
   },
   "source": [
    "![](images/PMC4852634_rsos150691-g3.png)"
   ]
  },
  {
   "cell_type": "markdown",
   "metadata": {
    "slideshow": {
     "slide_type": "subslide"
    }
   },
   "source": [
    "# Why/how do we use thematic maps?\n",
    "\n",
    "- thematic maps are designed for a targeted audience to answer specific questions\n",
    "- the value of thematic maps lies in what they do not show\n",
    "    - geographic features should be minimized to avoid distracting the reader from the theme\n",
    "    - most thematic maps include political boundaries such as country or state borders but omit navigational features (e.g., street names or points of interest)\n"
   ]
  },
  {
   "cell_type": "markdown",
   "metadata": {
    "slideshow": {
     "slide_type": "slide"
    }
   },
   "source": [
    "# Computational challenges"
   ]
  },
  {
   "cell_type": "markdown",
   "metadata": {
    "slideshow": {
     "slide_type": "subslide"
    }
   },
   "source": [
    "# Rendering\n",
    "\n",
    "- geographic data including points, lines, and polygons\n",
    "- these artifacts are stored numerically as one or more points, which come in (x,y) pairs or (x,y,z) tuples\n"
   ]
  },
  {
   "cell_type": "markdown",
   "metadata": {
    "slideshow": {
     "slide_type": "subslide"
    }
   },
   "source": [
    "# Geographic and screen coordinates\n",
    "\n",
    " - geographic data are stored in a coordinate system representing a grid overlaid on the Earth, which is three-dimensional and round\n",
    " - screen coordinates, also known as pixel coordinates, represent a grid of pixels on a flat, two-dimensional computer screen\n",
    " - mapping x and y world coordinates to pixel coordinates is fairly straightforward and involves a simple scaling algorithm\n",
    " - however, if a z coordinate exists, then a more complicated transform must be performed to map coordinates from three-dimensional space to a two-dimensional plane"
   ]
  },
  {
   "cell_type": "markdown",
   "metadata": {
    "slideshow": {
     "slide_type": "slide"
    }
   },
   "source": [
    "# Let's build a simple GIS\n",
    "\n",
    "Steps:\n",
    "\n",
    "- creating the data model\n",
    "- creating the map renderer that draws the data"
   ]
  },
  {
   "cell_type": "markdown",
   "metadata": {
    "slideshow": {
     "slide_type": "subslide"
    }
   },
   "source": [
    "# Good reference book on this\n",
    "\n",
    "<img src='images/reference.jpg' width=400/>\n",
    "\n",
    "Note: the GIS example we analyze comes from this book"
   ]
  },
  {
   "cell_type": "markdown",
   "metadata": {
    "slideshow": {
     "slide_type": "subslide"
    }
   },
   "source": [
    "# Step 0: Let's leverage some drawing capabilities"
   ]
  },
  {
   "cell_type": "markdown",
   "metadata": {
    "cell_style": "split",
    "slideshow": {
     "slide_type": "fragment"
    }
   },
   "source": [
    "Import the module Turtle"
   ]
  },
  {
   "cell_type": "code",
   "execution_count": 1,
   "metadata": {
    "ExecuteTime": {
     "end_time": "2020-11-17T15:06:47.942808Z",
     "start_time": "2020-11-17T15:06:47.822982Z"
    },
    "cell_style": "split",
    "slideshow": {
     "slide_type": "fragment"
    }
   },
   "outputs": [],
   "source": [
    "import turtle as t"
   ]
  },
  {
   "cell_type": "markdown",
   "metadata": {
    "slideshow": {
     "slide_type": "subslide"
    }
   },
   "source": [
    "# Step 1: Data model setup"
   ]
  },
  {
   "cell_type": "markdown",
   "metadata": {
    "cell_style": "split",
    "slideshow": {
     "slide_type": "fragment"
    }
   },
   "source": [
    "Set up the data for a sample USA state (Colorado) as a list with name, polygon points, and population.\n",
    "\n",
    "<img src='images/colorado.gif' width=900/>"
   ]
  },
  {
   "cell_type": "code",
   "execution_count": 2,
   "metadata": {
    "ExecuteTime": {
     "end_time": "2020-11-17T15:06:49.076829Z",
     "start_time": "2020-11-17T15:06:49.073470Z"
    },
    "cell_style": "split",
    "slideshow": {
     "slide_type": "fragment"
    }
   },
   "outputs": [],
   "source": [
    "NAME = 0\n",
    "POINTS = 1\n",
    "POP = 2\n",
    "\n",
    "state = [\"COLORADO\",\n",
    "         [[-109, 37], [-109, 41],\n",
    "          [-102, 41], [-102, 37]],\n",
    "         5187582]"
   ]
  },
  {
   "cell_type": "markdown",
   "metadata": {
    "slideshow": {
     "slide_type": "subslide"
    }
   },
   "source": [
    "# Step 2: Expand data"
   ]
  },
  {
   "cell_type": "markdown",
   "metadata": {
    "cell_style": "center",
    "slideshow": {
     "slide_type": "fragment"
    }
   },
   "source": [
    "- let's add some information about cities nested in the focal state\n",
    "- the cities will be stored as nested lists \n",
    "- each city's location consists of a single point as a longitude and latitude pair"
   ]
  },
  {
   "cell_type": "code",
   "execution_count": 3,
   "metadata": {
    "ExecuteTime": {
     "end_time": "2020-11-17T15:07:08.816004Z",
     "start_time": "2020-11-17T15:07:08.812417Z"
    },
    "cell_style": "center",
    "slideshow": {
     "slide_type": "fragment"
    }
   },
   "outputs": [],
   "source": [
    "cities = []\n",
    "cities.append([\"DENVER\",[-104.98, 39.74], 634265])\n",
    "cities.append([\"BOULDER\",[-105.27, 40.02], 98889])\n",
    "cities.append([\"DURANGO\",[-107.88,37.28], 17069])"
   ]
  },
  {
   "cell_type": "markdown",
   "metadata": {
    "slideshow": {
     "slide_type": "subslide"
    }
   },
   "source": [
    "# Step 3: Fix map size"
   ]
  },
  {
   "cell_type": "markdown",
   "metadata": {
    "slideshow": {
     "slide_type": "fragment"
    }
   },
   "source": [
    "- we will now render our GIS data as a map by first defining a map size\n",
    "- the width and height can be anything that you want depending on your screen resolution"
   ]
  },
  {
   "cell_type": "code",
   "execution_count": 4,
   "metadata": {
    "ExecuteTime": {
     "end_time": "2020-11-17T15:07:14.943508Z",
     "start_time": "2020-11-17T15:07:14.940522Z"
    },
    "slideshow": {
     "slide_type": "fragment"
    }
   },
   "outputs": [],
   "source": [
    "map_width = 400\n",
    "map_height = 300"
   ]
  },
  {
   "cell_type": "markdown",
   "metadata": {
    "slideshow": {
     "slide_type": "subslide"
    }
   },
   "source": [
    "# Step 4: Scaling the map"
   ]
  },
  {
   "cell_type": "markdown",
   "metadata": {
    "slideshow": {
     "slide_type": "fragment"
    }
   },
   "source": [
    "- in order to scale the map to the graphics canvas, we must first determine the bounding box of the largest layer, which is the state\n",
    "- we'll set the map's bounding box to a global scale and reduce it to the size of the state. To do so:\n",
    "    - we'll loop through the longitude and latitude of each point and compare it with the current minimum and maximum x and y values\n",
    "    - if it is larger than the current maximum or smaller than the current minimum, we'll make this value the new maximum or minimum, respectively"
   ]
  },
  {
   "cell_type": "code",
   "execution_count": 5,
   "metadata": {
    "ExecuteTime": {
     "end_time": "2020-11-17T15:07:38.823173Z",
     "start_time": "2020-11-17T15:07:38.819316Z"
    },
    "slideshow": {
     "slide_type": "fragment"
    }
   },
   "outputs": [],
   "source": [
    "minx = 105\n",
    "maxx = -112\n",
    "miny = 40\n",
    "maxy = -44\n",
    "\n",
    "for x, y in state[POINTS]:\n",
    "    if x < minx: minx = x\n",
    "    elif x > maxx: maxx = x\n",
    "    if y < miny: miny = y\n",
    "    elif y > maxy: maxy = y"
   ]
  },
  {
   "cell_type": "markdown",
   "metadata": {
    "slideshow": {
     "slide_type": "subslide"
    }
   },
   "source": [
    "# Step 4: Scaling the map (cont'd)"
   ]
  },
  {
   "cell_type": "markdown",
   "metadata": {
    "slideshow": {
     "slide_type": "fragment"
    }
   },
   "source": [
    "- the second step to scaling is to calculate a ratio between the actual state and the tiny canvas that we will render it on\n",
    "- this ratio is used for coordinate to pixel conversion. We get the size along the x and y axes of the state and then we divide the map width and height by these numbers to get our scaling ratio:"
   ]
  },
  {
   "cell_type": "code",
   "execution_count": 6,
   "metadata": {
    "ExecuteTime": {
     "end_time": "2020-11-17T15:08:01.898811Z",
     "start_time": "2020-11-17T15:08:01.896109Z"
    },
    "slideshow": {
     "slide_type": "fragment"
    }
   },
   "outputs": [],
   "source": [
    "dist_x = maxx - minx\n",
    "dist_y = maxy - miny\n",
    "x_ratio = map_width / dist_x\n",
    "y_ratio = map_height / dist_y"
   ]
  },
  {
   "cell_type": "markdown",
   "metadata": {
    "slideshow": {
     "slide_type": "subslide"
    }
   },
   "source": [
    "# Step 5: Sample GIS function"
   ]
  },
  {
   "cell_type": "markdown",
   "metadata": {
    "slideshow": {
     "slide_type": "fragment"
    }
   },
   "source": [
    "- be 'convert()' our sample GIS function\n",
    "- we require convert() to transform a point in the map coordinates from one of our data layers to pixel coordinates using the previous calculations\n",
    "- in order to to account for the unusual center origin of the turtle graphics canvas, we divide the map width and height in half and subtract it from the final conversion "
   ]
  },
  {
   "cell_type": "code",
   "execution_count": 7,
   "metadata": {
    "ExecuteTime": {
     "end_time": "2020-11-17T15:08:07.056762Z",
     "start_time": "2020-11-17T15:08:07.053107Z"
    },
    "slideshow": {
     "slide_type": "fragment"
    }
   },
   "outputs": [],
   "source": [
    "def convert(point):\n",
    "    lon = point[0]\n",
    "    lat = point[1]\n",
    "    x = map_width - ((maxx - lon) * x_ratio)\n",
    "    y = map_height - ((maxy - lat) * y_ratio)\n",
    "    # Python turtle graphics start in the\n",
    "    # middle of the screen\n",
    "    # so we must offset the points so they are centered\n",
    "    x = x - (map_width/2)\n",
    "    y = y - (map_height/2)\n",
    "    return [x,y]"
   ]
  },
  {
   "cell_type": "markdown",
   "metadata": {
    "slideshow": {
     "slide_type": "subslide"
    }
   },
   "source": [
    "# Step 6: Render our GIS as a thematic map"
   ]
  },
  {
   "cell_type": "markdown",
   "metadata": {
    "slideshow": {
     "slide_type": "fragment"
    }
   },
   "source": [
    "- the turtle module uses the concept of a cursor called a pen\n",
    "- moving the cursor around the canvas is exactly the same as moving a pen around a piece of paper\n",
    "- the cursor will draw a line when you move it―so, you'll notice that throughout the code, we use the t.up() and t.down() commands to pick the pen up when we want to move to a new location and put it down when we're ready to draw. We have some important steps in this section\n",
    "- as the border of Colorado is a polygon, we must draw a line between the last point and first point to close the polygon. We can also leave out the closing step and just add a duplicate point to the Colorado dataset\n",
    "- once we draw the state, we'll use the write() method to label the polygon"
   ]
  },
  {
   "cell_type": "code",
   "execution_count": 8,
   "metadata": {
    "ExecuteTime": {
     "end_time": "2020-11-17T15:08:12.228093Z",
     "start_time": "2020-11-17T15:08:08.902554Z"
    },
    "slideshow": {
     "slide_type": "fragment"
    }
   },
   "outputs": [],
   "source": [
    "first_pixel = None\n",
    "t.up()\n",
    "\n",
    "for point in state[POINTS]:\n",
    "    pixel = convert(point)\n",
    "    if not first_pixel:\n",
    "        first_pixel=pixel\n",
    "    t.goto(pixel)\n",
    "    t.down()\n",
    "\n",
    "\n",
    "t.goto(first_pixel)\n",
    "t.up()\n",
    "t.goto([0,0])\n",
    "t.write(state[NAME], align=\"center\", font=(\"Arial\",16,\"bold\"))"
   ]
  },
  {
   "cell_type": "markdown",
   "metadata": {
    "slideshow": {
     "slide_type": "subslide"
    }
   },
   "source": [
    "# Step 6: Render our GIS as a thematic map (cont'd)"
   ]
  },
  {
   "cell_type": "markdown",
   "metadata": {
    "slideshow": {
     "slide_type": "fragment"
    }
   },
   "source": [
    "- now, we'll render the cities as point locations and label them with their names and population;\n",
    "- as the cities are a group of features in a list, we'll loop through them to render them. Instead of drawing lines by moving the pen around, we'll use the turtle dot() method to plot a small circle at the pixel coordinate returned by our SimpleGISconvert() function\n",
    "- you'll notice that we must convert the population number to a string in order to use it in the turtle write() method. To do so, we use Python's built-in function, str()"
   ]
  },
  {
   "cell_type": "code",
   "execution_count": 9,
   "metadata": {
    "ExecuteTime": {
     "end_time": "2020-11-17T15:08:25.832547Z",
     "start_time": "2020-11-17T15:08:24.910387Z"
    },
    "slideshow": {
     "slide_type": "fragment"
    }
   },
   "outputs": [],
   "source": [
    "for city in cities:\n",
    "    pixel = convert(city[POINTS])\n",
    "    t.up()\n",
    "    t.goto(pixel)\n",
    "    # Place a point for the city\n",
    "    t.dot(10)\n",
    "    # Label the city\n",
    "    t.write(city[NAME] + \", Pop.: \" + str(city[POP]), align=\"left\")\n",
    "    t.up()"
   ]
  }
 ],
 "metadata": {
  "celltoolbar": "Slideshow",
  "gist": {
   "data": {
    "description": "week5/slideshow_0.ipynb",
    "public": false
   },
   "id": ""
  },
  "hide_input": false,
  "kernelspec": {
   "display_name": "Python 3",
   "language": "python",
   "name": "python3"
  },
  "language_info": {
   "codemirror_mode": {
    "name": "ipython",
    "version": 3
   },
   "file_extension": ".py",
   "mimetype": "text/x-python",
   "name": "python",
   "nbconvert_exporter": "python",
   "pygments_lexer": "ipython3",
   "version": "3.8.6"
  },
  "latex_envs": {
   "LaTeX_envs_menu_present": true,
   "autoclose": false,
   "autocomplete": true,
   "bibliofile": "biblio.bib",
   "cite_by": "apalike",
   "current_citInitial": 1,
   "eqLabelWithNumbers": true,
   "eqNumInitial": 1,
   "hotkeys": {
    "equation": "Ctrl-E",
    "itemize": "Ctrl-I"
   },
   "labels_anchors": false,
   "latex_user_defs": false,
   "report_style_numbering": false,
   "user_envs_cfg": false
  },
  "nbTranslate": {
   "displayLangs": [
    "*"
   ],
   "hotkey": "alt-t",
   "langInMainMenu": true,
   "sourceLang": "en",
   "targetLang": "fr",
   "useGoogleTranslate": true
  },
  "pycharm": {
   "stem_cell": {
    "cell_type": "raw",
    "metadata": {
     "collapsed": false
    },
    "source": []
   }
  },
  "rise": {
   "enable_chalkboard": true
  },
  "toc": {
   "base_numbering": 1,
   "nav_menu": {},
   "number_sections": false,
   "sideBar": true,
   "skip_h1_title": false,
   "title_cell": "Table of Contents",
   "title_sidebar": "Contents",
   "toc_cell": true,
   "toc_position": {
    "height": "calc(100% - 180px)",
    "left": "10px",
    "top": "150px",
    "width": "273px"
   },
   "toc_section_display": true,
   "toc_window_display": false
  },
  "varInspector": {
   "cols": {
    "lenName": 16,
    "lenType": 16,
    "lenVar": 40
   },
   "kernels_config": {
    "python": {
     "delete_cmd_postfix": "",
     "delete_cmd_prefix": "del ",
     "library": "var_list.py",
     "varRefreshCmd": "print(var_dic_list())"
    },
    "r": {
     "delete_cmd_postfix": ") ",
     "delete_cmd_prefix": "rm(",
     "library": "var_list.r",
     "varRefreshCmd": "cat(var_dic_list()) "
    }
   },
   "types_to_exclude": [
    "module",
    "function",
    "builtin_function_or_method",
    "instance",
    "_Feature"
   ],
   "window_display": false
  }
 },
 "nbformat": 4,
 "nbformat_minor": 2
}
