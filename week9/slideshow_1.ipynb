{
 "cells": [
  {
   "cell_type": "markdown",
   "metadata": {
    "toc": true
   },
   "source": [
    "<h1>Table of Contents<span class=\"tocSkip\"></span></h1>\n",
    "<div class=\"toc\"><ul class=\"toc-item\"><li><span><a href=\"#Data-visualization,-week-9\" data-toc-modified-id=\"Data-visualization,-week-9-1\">Data visualization, week 9</a></span></li><li><span><a href=\"#What's-an-interactive-data-viz?\" data-toc-modified-id=\"What's-an-interactive-data-viz?-2\">What's an interactive data viz?</a></span></li><li><span><a href=\"#How-does-interactiveness-matter?\" data-toc-modified-id=\"How-does-interactiveness-matter?-3\">How does interactiveness matter?</a></span></li><li><span><a href=\"#Do-interactive-visualizations-add-value?\" data-toc-modified-id=\"Do-interactive-visualizations-add-value?-4\">Do interactive visualizations add value?</a></span></li><li><span><a href=\"#My-two-cents...\" data-toc-modified-id=\"My-two-cents...-5\">My two cents...</a></span></li><li><span><a href=\"#What's-the-best-(Python)-lib-for-interactive-data-viz?\" data-toc-modified-id=\"What's-the-best-(Python)-lib-for-interactive-data-viz?-6\">What's the best (Python) lib for interactive data viz?</a></span></li><li><span><a href=\"#Both-Bokeh-and-Plotly-are-best-in-class-libraries\" data-toc-modified-id=\"Both-Bokeh-and-Plotly-are-best-in-class-libraries-7\">Both Bokeh and Plotly are best in-class libraries</a></span></li><li><span><a href=\"#Yet,-Bokeh-offers-some-unique-advantages\" data-toc-modified-id=\"Yet,-Bokeh-offers-some-unique-advantages-8\">Yet, Bokeh offers some unique advantages</a></span></li><li><span><a href=\"#Is-Plotly-stuck-in-the-middle?\" data-toc-modified-id=\"Is-Plotly-stuck-in-the-middle?-9\">Is Plotly stuck in the middle?</a></span></li><li><span><a href=\"#Some-interactive-viz-(&amp;-the-anatomy-of-Bokeh)\" data-toc-modified-id=\"Some-interactive-viz-(&amp;-the-anatomy-of-Bokeh)-10\">Some interactive viz (&amp; the anatomy of Bokeh)</a></span></li><li><span><a href=\"#Organization-of-the-API\" data-toc-modified-id=\"Organization-of-the-API-11\">Organization of the API</a></span></li><li><span><a href=\"#Plotting-'arm'-of-Bokeh-(a-simple-scatter-diagram)\" data-toc-modified-id=\"Plotting-'arm'-of-Bokeh-(a-simple-scatter-diagram)-12\">Plotting 'arm' of Bokeh (a simple scatter diagram)</a></span></li><li><span><a href=\"#Model-'arm'-of-Bokeh\" data-toc-modified-id=\"Model-'arm'-of-Bokeh-13\">Model 'arm' of Bokeh</a></span></li><li><span><a href=\"#Exemplars\" data-toc-modified-id=\"Exemplars-14\">Exemplars</a></span></li><li><span><a href=\"#A-special-case:-Dashboardsv\" data-toc-modified-id=\"A-special-case:-Dashboardsv-15\">A special case: Dashboardsv</a></span></li></ul></div>"
   ]
  },
  {
   "cell_type": "code",
   "execution_count": 2,
   "metadata": {
    "ExecuteTime": {
     "end_time": "2020-11-30T17:03:59.977004Z",
     "start_time": "2020-11-30T17:03:59.974202Z"
    }
   },
   "outputs": [],
   "source": [
    "from IPython.display import Video"
   ]
  },
  {
   "cell_type": "markdown",
   "metadata": {
    "slideshow": {
     "slide_type": "slide"
    }
   },
   "source": [
    "# Data visualization, week 9\n",
    "\n",
    "<img src='images/bokeh_artwork.png' width=600px />"
   ]
  },
  {
   "cell_type": "markdown",
   "metadata": {
    "slideshow": {
     "slide_type": "slide"
    }
   },
   "source": [
    "# What's an interactive data viz?"
   ]
  },
  {
   "cell_type": "markdown",
   "metadata": {
    "slideshow": {
     "slide_type": "fragment"
    }
   },
   "source": [
    "An interactive data viz is a __digital artefact__ whose features vary as users interact with it"
   ]
  },
  {
   "cell_type": "markdown",
   "metadata": {
    "slideshow": {
     "slide_type": "fragment"
    }
   },
   "source": [
    "For example, visual forms, colors, and contents (i.e., data) may change as cases are filtered"
   ]
  },
  {
   "cell_type": "markdown",
   "metadata": {
    "slideshow": {
     "slide_type": "subslide"
    }
   },
   "source": [
    "# How does interactiveness matter?"
   ]
  },
  {
   "cell_type": "markdown",
   "metadata": {
    "slideshow": {
     "slide_type": "fragment"
    }
   },
   "source": [
    "'Design' takes further meanings in the context of an interactive viz "
   ]
  },
  {
   "cell_type": "markdown",
   "metadata": {
    "slideshow": {
     "slide_type": "fragment"
    }
   },
   "source": [
    "In the context of a __static viz__, design choices concern aesthetic and functional properties of a plot "
   ]
  },
  {
   "cell_type": "markdown",
   "metadata": {
    "slideshow": {
     "slide_type": "fragment"
    }
   },
   "source": [
    "In the context of an __interactive viz__, design choices concern also situation within which individuals as users manipulate plots as artifacts"
   ]
  },
  {
   "cell_type": "markdown",
   "metadata": {
    "slideshow": {
     "slide_type": "fragment"
    }
   },
   "source": [
    "Therefore, important considerations arise about the ergonomics of the plot – e.g.:\n",
    "\n",
    "* how many filtering buttons?\n",
    "* where to locate buttons?"
   ]
  },
  {
   "cell_type": "markdown",
   "metadata": {
    "slideshow": {
     "slide_type": "subslide"
    }
   },
   "source": [
    "# Do interactive visualizations add value?"
   ]
  },
  {
   "cell_type": "markdown",
   "metadata": {
    "cell_style": "split",
    "slideshow": {
     "slide_type": "fragment"
    }
   },
   "source": [
    "**Not at all**\n",
    "\n",
    "- as the number of dynamic features increases, it is highly likely that users attach different meanings and interpretations to the interactive visualization\n",
    "- potentially, this creates ambiguity about the 'core message' of the visualization\n",
    "- interactive visualizations should be avoided when the primary objective of the designer is to to create wisdom (e.g., data journalism)"
   ]
  },
  {
   "cell_type": "markdown",
   "metadata": {
    "cell_style": "split",
    "slideshow": {
     "slide_type": "fragment"
    }
   },
   "source": [
    "**Definitely**\n",
    "\n",
    "- interactive viz creates value to users by giving them exactly what they need $\\rightarrow$ consumer surplus increase\n",
    "- sometimes, users have in depth knowledge of a subject (e.g., music enthuasiasts) $\\rightarrow$ they can credibly engage with even complex interactive visualizations\n",
    "- sometimes, users are very sophisticated $\\rightarrow$ appreciating their information needs is not trivial $\\rightarrow$ interactive visualizations reduce the risk to fix a wrong focus"
   ]
  },
  {
   "cell_type": "markdown",
   "metadata": {
    "slideshow": {
     "slide_type": "subslide"
    }
   },
   "source": [
    "# My two cents...\n",
    "\n",
    "Interactive data viz works best for:\n",
    "\n",
    "+ exploratory purposes\n",
    "    * e.g., I've got my own template I use to make sense of a new dataset\n",
    "+ users that understand the business/societal context\n",
    "    * e.g., consultants\n",
    "+ heavy users\n",
    "    * e.g., people working on operations\n",
    "\n",
    "Caverat: After all, interactive viz is a newcomer to the business:\n",
    "\n",
    "+ pay attention to balance such a novelty with some conservative visual forms\n",
    "+ don't create a cognitive overload on the user's part (keep the number of buttons under control)"
   ]
  },
  {
   "cell_type": "markdown",
   "metadata": {
    "slideshow": {
     "slide_type": "slide"
    }
   },
   "source": [
    "# What's the best (Python) lib for interactive data viz?\n",
    "\n",
    "<img src='images/batman_superman.jpg' width=500px/>"
   ]
  },
  {
   "cell_type": "markdown",
   "metadata": {
    "slideshow": {
     "slide_type": "subslide"
    }
   },
   "source": [
    "# Both Bokeh and Plotly are best in-class libraries\n",
    "\n",
    "<img src='images/bokeh_plotly.png' width=1000px/>"
   ]
  },
  {
   "cell_type": "markdown",
   "metadata": {
    "slideshow": {
     "slide_type": "subslide"
    }
   },
   "source": [
    "# Yet, Bokeh offers some unique advantages\n",
    "\n",
    "+ Bokeh offers endless customization opportunities\n",
    "+ as the library gets more and more mature, flexibility and ease of use start together\n",
    "+ the quality of Bokeh's documentation is unmatched"
   ]
  },
  {
   "cell_type": "markdown",
   "metadata": {
    "slideshow": {
     "slide_type": "subslide"
    }
   },
   "source": [
    "# Is Plotly stuck in the middle?"
   ]
  },
  {
   "cell_type": "markdown",
   "metadata": {
    "cell_style": "split",
    "slideshow": {
     "slide_type": "fragment"
    }
   },
   "source": [
    "+ new high-level APIs, such as HoloViews, require even less coding than Plotly\n",
    "+ integrating some Bokeh visualizations in HoloViews requires very few lines of code"
   ]
  },
  {
   "cell_type": "markdown",
   "metadata": {
    "cell_style": "split",
    "slideshow": {
     "slide_type": "fragment"
    }
   },
   "source": [
    "<img src='images/holoviews.png' width=800px/>"
   ]
  },
  {
   "cell_type": "code",
   "execution_count": null,
   "metadata": {
    "slideshow": {
     "slide_type": "subslide"
    }
   },
   "outputs": [],
   "source": [
    "\"\"\"\n",
    "Bokeh app example using datashader for rasterizing a large dataset and\n",
    "geoviews for reprojecting coordinate systems.\n",
    "\n",
    "This example requires the 1.7GB nyc_taxi_wide.parquet dataset which\n",
    "you can obtain by downloading the file from AWS:\n",
    "\n",
    "  https://s3.amazonaws.com/datashader-data/nyc_taxi_wide.parq\n",
    "\n",
    "Place this parquet in a data/ subfolder and install the python dependencies, e.g.\n",
    "\n",
    "  conda install datashader fastparquet python-snappy\n",
    "\n",
    "You can now run this app with:\n",
    "\n",
    "  bokeh serve --show nytaxi_hover.py\n",
    "\n",
    "\"\"\"\n",
    "import numpy as np\n",
    "import holoviews as hv\n",
    "import dask.dataframe as dd\n",
    "\n",
    "from holoviews import opts\n",
    "from holoviews.operation.datashader import aggregate\n",
    "\n",
    "hv.extension('bokeh')\n",
    "renderer = hv.renderer('bokeh')\n",
    "\n",
    "# Set plot and style options\n",
    "opts.defaults(\n",
    "    opts.Curve(xaxis=None, yaxis=None, show_grid=False, show_frame=False,\n",
    "               color='orangered', framewise=True, width=100),\n",
    "    opts.Image(width=800, height=400, shared_axes=False, logz=True, colorbar=True,\n",
    "               xaxis=None, yaxis=None, axiswise=True, bgcolor='black'),\n",
    "    opts.HLine(color='white', line_width=1),\n",
    "    opts.Layout(shared_axes=False),\n",
    "    opts.VLine(color='white', line_width=1))\n",
    "\n",
    "# Read the parquet file\n",
    "df = dd.read_parquet('./data/nyc_taxi_wide.parq').persist()\n",
    "\n",
    "# Declare points\n",
    "points = hv.Points(df, kdims=['pickup_x', 'pickup_y'], vdims=[])\n",
    "\n",
    "# Use datashader to rasterize and linked streams for interactivity\n",
    "agg = aggregate(points, link_inputs=True, x_sampling=0.0001, y_sampling=0.0001)\n",
    "pointerx = hv.streams.PointerX(x=np.mean(points.range('pickup_x')), source=points)\n",
    "pointery = hv.streams.PointerY(y=np.mean(points.range('pickup_y')), source=points)\n",
    "vline = hv.DynamicMap(lambda x: hv.VLine(x), streams=[pointerx])\n",
    "hline = hv.DynamicMap(lambda y: hv.HLine(y), streams=[pointery])\n",
    "\n",
    "sampled = hv.util.Dynamic(agg, operation=lambda obj, x: obj.sample(pickup_x=x),\n",
    "                          streams=[pointerx], link_inputs=False)\n",
    "\n",
    "hvobj = ((agg * hline * vline) << sampled)\n",
    "\n",
    "# Obtain Bokeh document and set the title\n",
    "doc = renderer.server_doc(hvobj)\n",
    "doc.title = 'NYC Taxi Crosshair'\n",
    "\n",
    "\"\"\"\n",
    "Outcome: https://holoviews.org/gallery/apps/bokeh/nytaxi_hover.html\n",
    "\"\"\""
   ]
  },
  {
   "cell_type": "markdown",
   "metadata": {
    "slideshow": {
     "slide_type": "slide"
    }
   },
   "source": [
    "# Some interactive viz (& the anatomy of Bokeh)"
   ]
  },
  {
   "cell_type": "markdown",
   "metadata": {
    "slideshow": {
     "slide_type": "subslide"
    }
   },
   "source": [
    "# Organization of the API\n",
    "\n",
    "<img src='images/bokeh_api.png' width=1000px/>"
   ]
  },
  {
   "cell_type": "markdown",
   "metadata": {
    "slideshow": {
     "slide_type": "subslide"
    }
   },
   "source": [
    "# Plotting 'arm' of Bokeh (a simple scatter diagram)"
   ]
  },
  {
   "cell_type": "code",
   "execution_count": 1,
   "metadata": {
    "ExecuteTime": {
     "end_time": "2020-11-30T19:47:32.366442Z",
     "start_time": "2020-11-30T19:47:31.640378Z"
    },
    "cell_style": "center",
    "slideshow": {
     "slide_type": "fragment"
    }
   },
   "outputs": [],
   "source": [
    "# import\n",
    "import pandas as pd\n",
    "from bokeh.plotting import figure, output_file, show\n",
    "\n",
    "# fake data\n",
    "# --+ x\n",
    "x0 = np.random.normal(loc=0, scale=1, size=50)\n",
    "x1 = np.random.normal(loc=0, scale=1, size=50)\n",
    "x2 = np.random.normal(loc=0, scale=1, size=50)\n",
    "# --+ y\n",
    "y0 = 1 + x0 * 1 * np.random.normal(loc=0, scale=0.1)\n",
    "y1 = 1 + x1 * 1 * np.random.normal(loc=0, scale=0.2)\n",
    "y2 = 1 + x2 * 1 * np.random.normal(loc=0, scale=0.4)\n",
    "# --+ get a df\n",
    "df0 = pd.DataFrame({'x': x0, 'y': y0, 'z': np.repeat(0, 50)})\n",
    "df1 = pd.DataFrame({'x': x1, 'y': y1, 'z': np.repeat(1, 50)})\n",
    "df2 = pd.DataFrame({'x': x2, 'y': y2, 'z': np.repeat(5, 50)})\n",
    "df = pd.concat([df0, df1, df2])\n",
    "\n",
    "# color map\n",
    "colormap = {0: 'orange', 1: 'black', 5: 'purple'}\n",
    "colors = [colormap[x] for x in df['z']]\n",
    "\n",
    "# initialize the figure\n",
    "p = figure(title = \"Some fake data\")\n",
    "\n",
    "# axes\n",
    "p.xaxis.axis_label = 'Consumption of vinegar crisps (stones)'\n",
    "p.yaxis.axis_label = 'Consumption of carbonated drink (gallons)'\n",
    "\n",
    "# plot data\n",
    "p.circle(df[\"x\"], df[\"y\"], color=colors, fill_alpha=0.2, size=10)\n",
    "\n",
    "# dump the chart\n",
    "output_file(\"at_the_pub.html\", title=\"at_the_pub.py example\")\n",
    "\n",
    "# show the chart\n",
    "show(p)"
   ]
  },
  {
   "cell_type": "markdown",
   "metadata": {
    "slideshow": {
     "slide_type": "subslide"
    }
   },
   "source": [
    "# Model 'arm' of Bokeh"
   ]
  },
  {
   "cell_type": "code",
   "execution_count": 2,
   "metadata": {
    "ExecuteTime": {
     "end_time": "2020-11-30T19:54:31.642824Z",
     "start_time": "2020-11-30T19:54:31.216544Z"
    },
    "slideshow": {
     "slide_type": "subslide"
    }
   },
   "outputs": [],
   "source": [
    "# minimal setup\n",
    "import numpy as np\n",
    "from bokeh.io import show\n",
    "from bokeh.layouts import column\n",
    "from bokeh.models import ColumnDataSource, RangeTool\n",
    "from bokeh.plotting import figure\n",
    "\n",
    "\n",
    "# sample data\n",
    "from bokeh.sampledata.stocks import AAPL\n",
    "\n",
    "# data manipulation\n",
    "dates = np.array(AAPL['date'], dtype=np.datetime64)\n",
    "source = ColumnDataSource(data=dict(date=dates, close=AAPL['adj_close']))\n",
    "\n",
    "# initialize the plot\n",
    "p = figure(plot_height=300, plot_width=800,                  # plot size\n",
    "           tools=\"xpan\", toolbar_location=None,              # tools\n",
    "           x_axis_type=\"datetime\", x_axis_location=\"above\",  # x-axis\n",
    "           x_range=(dates[1500], dates[2500],),\n",
    "           background_fill_color=\"#efefef\")                  # background )\n",
    "\n",
    "# plot data\n",
    "p.line('date', 'close', source=source)\n",
    "\n",
    "# decorations\n",
    "p.yaxis.axis_label = 'Price'\n",
    "\n",
    "# initialize lower panel plot\n",
    "select = figure(title=\"Drag the middle and edges of the selection box to change the range above\",\n",
    "                plot_height=130, plot_width=800, y_range=p.y_range,\n",
    "                x_axis_type=\"datetime\", y_axis_type=None,\n",
    "                tools=\"\", toolbar_location=None, background_fill_color=\"#efefef\")\n",
    "\n",
    "# initialize data selector \n",
    "range_tool = RangeTool(x_range=p.x_range)\n",
    "range_tool.overlay.fill_color = \"navy\"\n",
    "range_tool.overlay.fill_alpha = 0.2\n",
    "\n",
    "# plot data\n",
    "select.line('date', 'close', source=source)\n",
    "select.ygrid.grid_line_color = None\n",
    "\n",
    "# add selector\n",
    "select.add_tools(range_tool)\n",
    "select.toolbar.active_multi = range_tool\n",
    "\n",
    "# show plot\n",
    "show(column(p, select))"
   ]
  },
  {
   "cell_type": "markdown",
   "metadata": {
    "slideshow": {
     "slide_type": "subslide"
    }
   },
   "source": [
    "# A special case: Dashboards\n",
    "\n",
    "![](https://cdn-images-1.medium.com/max/1200/1*KVtvnCCQ-IWTdUsl65UpZQ.gif)"
   ]
  },
  {
   "cell_type": "markdown",
   "metadata": {
    "slideshow": {
     "slide_type": "slide"
    }
   },
   "source": [
    "<img alt=\"Image for post\" class=\"yg yh el dq dm fq v c\" width=\"1309\" height=\"947\" src=\"https://miro.medium.com/max/2618/1*CUyrsJpP5lkvVdheseAYXQ.png\" srcset=\"https://miro.medium.com/max/552/1*CUyrsJpP5lkvVdheseAYXQ.png 276w, https://miro.medium.com/max/1104/1*CUyrsJpP5lkvVdheseAYXQ.png 552w, https://miro.medium.com/max/1280/1*CUyrsJpP5lkvVdheseAYXQ.png 640w, https://miro.medium.com/max/1456/1*CUyrsJpP5lkvVdheseAYXQ.png 728w, https://miro.medium.com/max/1632/1*CUyrsJpP5lkvVdheseAYXQ.png 816w, https://miro.medium.com/max/1808/1*CUyrsJpP5lkvVdheseAYXQ.png 904w, https://miro.medium.com/max/1984/1*CUyrsJpP5lkvVdheseAYXQ.png 992w, https://miro.medium.com/max/2000/1*CUyrsJpP5lkvVdheseAYXQ.png 1000w\" sizes=\"600px\">\n",
    "\n",
    "https://youtu.be/VWi3HAlKOUQ"
   ]
  }
 ],
 "metadata": {
  "celltoolbar": "Slideshow",
  "hide_input": false,
  "kernelspec": {
   "display_name": "Python 3",
   "language": "python",
   "name": "python3"
  },
  "language_info": {
   "codemirror_mode": {
    "name": "ipython",
    "version": 3
   },
   "file_extension": ".py",
   "mimetype": "text/x-python",
   "name": "python",
   "nbconvert_exporter": "python",
   "pygments_lexer": "ipython3",
   "version": "3.8.6"
  },
  "latex_envs": {
   "LaTeX_envs_menu_present": true,
   "autoclose": false,
   "autocomplete": true,
   "bibliofile": "biblio.bib",
   "cite_by": "apalike",
   "current_citInitial": 1,
   "eqLabelWithNumbers": true,
   "eqNumInitial": 1,
   "hotkeys": {
    "equation": "Ctrl-E",
    "itemize": "Ctrl-I"
   },
   "labels_anchors": false,
   "latex_user_defs": false,
   "report_style_numbering": false,
   "user_envs_cfg": false
  },
  "nbTranslate": {
   "displayLangs": [
    "*"
   ],
   "hotkey": "alt-t",
   "langInMainMenu": true,
   "sourceLang": "en",
   "targetLang": "fr",
   "useGoogleTranslate": true
  },
  "rise": {
   "enable_chalkboard": true
  },
  "toc": {
   "base_numbering": 1,
   "nav_menu": {},
   "number_sections": false,
   "sideBar": true,
   "skip_h1_title": false,
   "title_cell": "Table of Contents",
   "title_sidebar": "Contents",
   "toc_cell": true,
   "toc_position": {
    "height": "calc(100% - 180px)",
    "left": "10px",
    "top": "150px",
    "width": "293.797px"
   },
   "toc_section_display": true,
   "toc_window_display": false
  },
  "varInspector": {
   "cols": {
    "lenName": 16,
    "lenType": 16,
    "lenVar": 40
   },
   "kernels_config": {
    "python": {
     "delete_cmd_postfix": "",
     "delete_cmd_prefix": "del ",
     "library": "var_list.py",
     "varRefreshCmd": "print(var_dic_list())"
    },
    "r": {
     "delete_cmd_postfix": ") ",
     "delete_cmd_prefix": "rm(",
     "library": "var_list.r",
     "varRefreshCmd": "cat(var_dic_list()) "
    }
   },
   "types_to_exclude": [
    "module",
    "function",
    "builtin_function_or_method",
    "instance",
    "_Feature"
   ],
   "window_display": false
  }
 },
 "nbformat": 4,
 "nbformat_minor": 2
}
